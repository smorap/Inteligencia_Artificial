{
  "nbformat": 4,
  "nbformat_minor": 0,
  "metadata": {
    "colab": {
      "name": "Coeficiente_de_determinacion.ipynb",
      "provenance": [],
      "authorship_tag": "ABX9TyPDKp7AT+uA76OBQDW18yxI",
      "include_colab_link": true
    },
    "kernelspec": {
      "name": "python3",
      "display_name": "Python 3"
    },
    "language_info": {
      "name": "python"
    }
  },
  "cells": [
    {
      "cell_type": "markdown",
      "metadata": {
        "id": "view-in-github",
        "colab_type": "text"
      },
      "source": [
        "<a href=\"https://colab.research.google.com/github/smorap/Inteligencia_Artificial/blob/main/Coeficiente_de_determinacion.ipynb\" target=\"_parent\"><img src=\"https://colab.research.google.com/assets/colab-badge.svg\" alt=\"Open In Colab\"/></a>"
      ]
    },
    {
      "cell_type": "code",
      "metadata": {
        "id": "45zAemG0QyyV"
      },
      "source": [
        "## Librerias\n",
        "import numpy as np\n",
        "# Caracteristicas \n",
        "Carac = np.array([1, 1.5, 2, 2.5, 3, 3.5, 4, 4.5, 5, 5.5, 6])\n",
        "# Etiquetas \n",
        "etiq = np.array([0.169610271922408, 0.283395812542308, 0.386358737510785, 0.470227872390909, 0.433281293764675, 0.600267648212653, 0.738338980436742, 0.790315020494445, 0.877464268422459, 0.84356446225183, 0.96443891694455])\n",
        "T0=0.0399999999999352         #theta0\n",
        "T1=0.15999999999993264        #theta1\n",
        "\n",
        "    \n"
      ],
      "execution_count": 17,
      "outputs": []
    },
    {
      "cell_type": "code",
      "metadata": {
        "id": "CFsXrxdlVJzC"
      },
      "source": [
        "\n",
        "h_x = T0 + T1*Carac                 #Modelo lineal con los valores de theta1 y theta0 calculados en clase\n",
        "etiq_media=etiq.mean()              #Media de los valores de las etiquetas \n",
        "#vectores para almacenar los resultados\n",
        "CoeError=np.zeros(11)\n",
        "VariacionEt=np.zeros(11)\n",
        "\n",
        "for i in range(len(etiq)):\n",
        "    CoeError[i] = pow(etiq[i]-h_x[i],2)       #calculo coeficiente de error para cada etiqueta\n",
        "    VariacionEt[i] = pow(etiq[i]-etiq_media,2)  #calculo variacion de cada etiqueta"
      ],
      "execution_count": 20,
      "outputs": []
    },
    {
      "cell_type": "code",
      "metadata": {
        "colab": {
          "base_uri": "https://localhost:8080/"
        },
        "id": "SGz5pNGHWXS3",
        "outputId": "44b8afde-3eb1-46af-b341-aa8c9e299fb7"
      },
      "source": [
        "CoeError=CoeError.sum()             #coeficiente de error entre los puntos y el modelo(recta)\n",
        "VariacionEt=VariacionEt.sum()       #variacion total etiquetas\n",
        "Coeficiente_de_determinacion=1-(CoeError/VariacionEt)\n",
        "print(Coeficiente_de_determinacion)"
      ],
      "execution_count": 21,
      "outputs": [
        {
          "output_type": "stream",
          "name": "stdout",
          "text": [
            "0.9672935681886871\n"
          ]
        }
      ]
    }
  ]
}