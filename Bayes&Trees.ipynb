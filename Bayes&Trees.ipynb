{
  "nbformat": 4,
  "nbformat_minor": 0,
  "metadata": {
    "colab": {
      "name": "Bayes&Trees.ipynb",
      "provenance": [],
      "collapsed_sections": []
    },
    "kernelspec": {
      "name": "python3",
      "display_name": "Python 3"
    },
    "language_info": {
      "name": "python"
    }
  },
  "cells": [
    {
      "cell_type": "code",
      "metadata": {
        "id": "RVeHdty7nF5G"
      },
      "source": [
        "## importar librerias\n",
        "from sklearn.datasets import load_iris\n",
        "from sklearn.model_selection import train_test_split\n",
        "from sklearn.preprocessing import StandardScaler\n",
        "from sklearn.naive_bayes import GaussianNB\n",
        "from sklearn.metrics import f1_score\n",
        "from sklearn.metrics import accuracy_score\n",
        "from sklearn.metrics import matthews_corrcoef\n",
        "from sklearn.tree import DecisionTreeClassifier"
      ],
      "execution_count": 1,
      "outputs": []
    },
    {
      "cell_type": "code",
      "metadata": {
        "id": "N_ejB_CLo5rM"
      },
      "source": [
        "\n",
        "## Conjunto de entrenamiento y conjunto de prueba \n",
        "x_train, x_test, y_train, y_test = train_test_split(load_iris().data,load_iris().target,train_size= 0.85 ,test_size= 0.15, random_state=1)\n",
        "## Escalizacion de los datos\n",
        "SC = StandardScaler()\n",
        "x_train = SC.fit_transform(x_train)\n",
        "x_test = SC.fit_transform(x_test)\n"
      ],
      "execution_count": 199,
      "outputs": []
    },
    {
      "cell_type": "code",
      "metadata": {
        "colab": {
          "base_uri": "https://localhost:8080/"
        },
        "id": "YZGov51ArZ4j",
        "outputId": "6fb65f1f-b42b-4fe6-e960-2c0193d529a0"
      },
      "source": [
        "## Entrenando el modelo NBC\n",
        "NBC = GaussianNB()\n",
        "NBC.fit(x_train, y_train)\n",
        "Prediccion= NBC.predict(x_test) \n",
        "## Evaluando el modelo NBC\n",
        "F1_NBC = f1_score(y_test, Prediccion, average= 'micro')\n",
        "Accuracy_NBC = accuracy_score(y_test, Prediccion)\n",
        "Matthews_NBC = matthews_corrcoef(y_test, Prediccion)\n",
        "## Resultados desempeño\n",
        "print ('Naive Bayes resultados:')\n",
        "print ('F1:', F1_NBC)\n",
        "print ('Accuracy:', Accuracy_NBC)\n",
        "print ('Coeficiente de Matthews:', Matthews_NBC)\n"
      ],
      "execution_count": 200,
      "outputs": [
        {
          "output_type": "stream",
          "name": "stdout",
          "text": [
            "Naive Bayes resultados:\n",
            "F1: 0.9130434782608695\n",
            "Accuracy: 0.9130434782608695\n",
            "Coeficiente de Matthews: 0.8761231727612123\n"
          ]
        }
      ]
    },
    {
      "cell_type": "code",
      "metadata": {
        "colab": {
          "base_uri": "https://localhost:8080/"
        },
        "id": "dltlp0wju1Ws",
        "outputId": "6c7ca7bf-f707-418f-989e-5bffbfd4d0b4"
      },
      "source": [
        "## Entrenando el modelo Arboles de decisión \n",
        "TreeD = DecisionTreeClassifier(criterion='entropy', random_state=0)\n",
        "TreeD.fit(x_train, y_train)\n",
        "Prediccion_TreeD = TreeD.predict(x_test)\n",
        "# Evaluando el modelo  Arboles de decisión\n",
        "F1_TD = f1_score(y_test,Prediccion_TreeD, average= 'micro')\n",
        "Accuracy_TD = accuracy_score(y_test, Prediccion_TreeD)\n",
        "Matthews_TD = matthews_corrcoef(y_test, Prediccion_TreeD)\n",
        "## Resultados desempeño\n",
        "print ('Arboles de desicion resultados:')\n",
        "print ('F1:', F1_TD)\n",
        "print ('Accuracy:', Accuracy_TD)\n",
        "print ('Coeficiente de Matthews:', Matthews_TD)"
      ],
      "execution_count": 201,
      "outputs": [
        {
          "output_type": "stream",
          "name": "stdout",
          "text": [
            "Arboles de desicion resultados:\n",
            "F1: 0.9130434782608695\n",
            "Accuracy: 0.9130434782608695\n",
            "Coeficiente de Matthews: 0.8761231727612123\n"
          ]
        }
      ]
    },
    {
      "cell_type": "markdown",
      "metadata": {
        "id": "rhGdqtdppWJu"
      },
      "source": [
        ""
      ]
    }
  ]
}